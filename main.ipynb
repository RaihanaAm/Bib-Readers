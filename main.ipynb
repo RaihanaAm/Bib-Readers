{
 "cells": [
  {
   "cell_type": "markdown",
   "id": "3826baf7",
   "metadata": {},
   "source": [
    "# 📔​ Recommandation de Livres Basée sur l’IA"
   ]
  },
  {
   "cell_type": "code",
   "execution_count": null,
   "id": "be9161ee",
   "metadata": {},
   "outputs": [],
   "source": [
    "#script le albemic \n",
    "#1 alembic revision --autogenerate -m \"Create livres table\"\n",
    "#2  py -m pip show alembic\n",
    "#3 py -m alembic stamp head"
   ]
  },
  {
   "cell_type": "code",
   "execution_count": null,
   "id": "5af98344",
   "metadata": {},
   "outputs": [],
   "source": []
  }
 ],
 "metadata": {
  "kernelspec": {
   "display_name": "Python 3",
   "language": "python",
   "name": "python3"
  },
  "language_info": {
   "codemirror_mode": {
    "name": "ipython",
    "version": 3
   },
   "file_extension": ".py",
   "mimetype": "text/x-python",
   "name": "python",
   "nbconvert_exporter": "python",
   "pygments_lexer": "ipython3",
   "version": "3.10.11"
  }
 },
 "nbformat": 4,
 "nbformat_minor": 5
}
